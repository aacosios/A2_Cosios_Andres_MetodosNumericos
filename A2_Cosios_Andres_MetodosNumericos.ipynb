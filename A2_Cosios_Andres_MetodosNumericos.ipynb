{
 "cells": [
  {
   "cell_type": "markdown",
   "id": "d518c869",
   "metadata": {},
   "source": [
    "# Universidad de las Fuerzas Armadas ESPE\n",
    "\n",
    "## Andrés Cosios Pineda\n",
    "\n",
    "## Actividad No 2"
   ]
  },
  {
   "cell_type": "markdown",
   "id": "63ed4649",
   "metadata": {},
   "source": [
    "## 1. Utilice todos los métodos estudiados (Newton, Bisección y Secante) para encontrar la raíz de la siguiente función: $f(x) = x + cos x $ en el intervalo $[-2; 0]$, con cuatro cifras decimales."
   ]
  },
  {
   "cell_type": "markdown",
   "id": "6c74e23b",
   "metadata": {},
   "source": [
    "## Metodo de Newton\n",
    "### Tenemos la siguiente formula\n",
    "### $ x_{n+1}=X_n-\\frac{f(x_n)}{f'(x_n} , f'(x_n)\\neq 0$\n",
    "### Tomamos $x_1=-1$\n",
    "### Tenemos la funcion:\n",
    "### $ f(x)=x+cos(x)$\n",
    "### Calculamos la derivada:\n",
    "### $ f'(x)=1-sen(x)$\n",
    "### Calculamos la siguiente interaccion:\n",
    "### $ x_2=X_1-\\frac{f(x_1)}{f'(x_1)}=-1-\\frac{-0.00015}{1.01745}=-0.9998$\n",
    "### Calculamos la siguiente interaccion:\n",
    "### $ x_3=X_2-\\frac{f(x_2)}{f'(x_2)}=-0.9998-\\frac{-0.0000}{1.0174}=-0.9998$\n",
    "### Calculamos la siguiente interaccion:\n",
    "### $ x_2=X_1-\\frac{f(x_1)}{f'(x_1)}=-1-\\frac{-0.0000}{1.0174}=-0.9998$\n",
    "### Tenemos que la raiz es:\n",
    "### $ x=-0.9998$ con cuatro cifras decimales\n",
    "\n",
    "## Metodo de la Bisección\n",
    "### Tomamos el intervalo:\n",
    "### $ x_i=-2$\n",
    "### $ x_u=0$\n",
    "### Iteracion 1\n",
    "### Calculamos $x_r$\n",
    "### $x_r=\\frac{x_i+x_u}{2}=\\frac{-2+0}{2}=-1$\n",
    "### Calculamos $ f(x_i)$ y $f(x_r)$\n",
    "### $f(x_i)=-2+cos(-2)=-1.000609$\n",
    "### $f(x_r)=-1+cos(-1)=-0.000152$\n",
    "### Resolvemos $f(x_i)*f(x_r)$\n",
    "### $f(x_i) * f(x_r)= 0.000152$\n",
    "#### Como es mayor que cero reemplaza a $x_i$\n",
    "### Iteracion 2\n",
    "### Calculamos $x_r$\n",
    "### $x_r=\\frac{x_i+x_u}{2}=\\frac{-1+0}{2}=-0.5$\n",
    "### Calculamos $ f(x_i)$ y $f(x_r)$\n",
    "### $f(x_i)=-1+cos(-1)=-0.000152$\n",
    "### $f(x_r)=-0.5+cos(-0.5)=0.499961$\n",
    "### Resolvemos $f(x_i)*f(x_r)$\n",
    "### $f(x_i) * f(x_r)= -0.000076$\n",
    "#### Como es menor que cero reemplaza a $x_u$\n",
    "### Iteracion 3\n",
    "### Calculamos $x_r$\n",
    "### $x_r=\\frac{x_i+x_u}{2}=\\frac{-1-0.5}{2}=-0.75$\n",
    "### Calculamos $ f(x_i)$ y $f(x_r)$\n",
    "### $f(x_i)=-1+cos(-1)=-0.000152$\n",
    "### $f(x_r)=-0.75+cos(-0.75)=0.249914$\n",
    "### Resolvemos $f(x_i)*f(x_r)$\n",
    "### $f(x_i) * f(x_r)= -0.000038$\n",
    "#### Como es menor que cero reemplaza a $x_u$\n",
    "### Iteracion 4\n",
    "### Calculamos $x_r$\n",
    "### $x_r=\\frac{x_i+x_u}{2}=\\frac{-1-0.75}{2}=-0.875$\n",
    "### Calculamos $ f(x_i)$ y $f(x_r)$\n",
    "### $f(x_i)=-1+cos(-1)=-0.000152$\n",
    "### $f(x_r)=-0.875+cos(-0.875)=0.124883$\n",
    "### Resolvemos $f(x_i)*f(x_r)$\n",
    "### $f(x_i) * f(x_r)= -0.000019$\n",
    "#### Como es menor que cero reemplaza a $x_u$\n",
    "### Iteracion 5\n",
    "### Calculamos $x_r$\n",
    "### $x_r=\\frac{x_i+x_u}{2}=\\frac{-1-0.875}{2}=-0.9375$\n",
    "### Calculamos $ f(x_i)$ y $f(x_r)$\n",
    "### $f(x_i)=-1+cos(-1)=-0.000152$\n",
    "### $f(x_r)=-0.9375+cos(-0.9375)=0.062366$\n",
    "### Resolvemos $f(x_i)*f(x_r)$\n",
    "### $f(x_i) * f(x_r)= -0.000009$\n",
    "#### Como es menor que cero reemplaza a $x_u$\n",
    "### Iteracion 6\n",
    "### Calculamos $x_r$\n",
    "### $x_r=\\frac{x_i+x_u}{2}=\\frac{-1-0.9375}{2}=-0.9688$\n",
    "### Calculamos $ f(x_i)$ y $f(x_r)$\n",
    "### $f(x_i)=-1+cos(-1)=-0.000152$\n",
    "### $f(x_r)=-0.9688+cos(-0.9688)=0.031057$\n",
    "### Resolvemos $f(x_i)*f(x_r)$\n",
    "### $f(x_i) * f(x_r)= -0.000005$\n",
    "#### Como es menor que cero reemplaza a $x_u$\n",
    "### Iteracion 7\n",
    "### Calculamos $x_r$\n",
    "### $x_r=\\frac{x_i+x_u}{2}=\\frac{-1-0.9688}{2}=-0.9844$\n",
    "### Calculando el Error porcentual:\n",
    "### $ e_p= \\frac{-09844+0.9688}{-0.9844}*100=1.58%$\n",
    "### Que se acercaria a un error aceptable\n",
    "### La raiz seria: $x=-0.9844$\n",
    "\n",
    "## Metodo de la secante\n",
    "### Utilizando la fórmula\n",
    "### $ x_{x+1}=X_i-\\frac{f(x_i)(x_{i-1}-x_i)}{f_(x_{i-1})-f(x_i)}$\n",
    "### Damos valores a $x_{i-1}$ , y $x_i$\n",
    "### $x_{i-1}=-1$\n",
    "### $x_i=0$\n",
    "### Evaluamos con $f(x_{i-1}$ y $f(x_i)$\n",
    "### $ f(-1)=-1+cos(-1)=-0.000152$\n",
    "### $ f(0)= 1$\n",
    "### Iteraccion 1\n",
    "### Sustituyendo en la formula:\n",
    "### $x_2=0-\\frac{1(-1-0}{-0.000152-1}=-0.9998$\n",
    "### Reemplazamos los nuevos valores\n",
    "### $x_{i-1}=0$\n",
    "### $x_i=-0.9998$\n",
    "### Evaluamos con $f(x_{i-1})$ y $f(x_i)$\n",
    "### $ f(0)=0+cos(0)=1$\n",
    "### $ f(-0.9998)=-0.9998+cos(-0.9998)= 0.0000$\n",
    "### Iteraccion 2\n",
    "### Sustituyendo en la formula:\n",
    "### $x_3=-0.9998-\\frac{0(0+0.9998}{1-0}=-0.9998$\n",
    "### Calculamos el error porcentual:\n",
    "### $e_p=\\frac{-0.9998+0.9998}{-0.9998}*100=0%$\n",
    "### La raiz seria: $x=-0.9998$\n"
   ]
  },
  {
   "cell_type": "markdown",
   "id": "a595afc3",
   "metadata": {},
   "source": [
    "## 2. Encuentre la intersección de las siguientes funciones: $f(x) = 3 - x $ y $ g(x) = ln x$, con tres cifras decimales."
   ]
  },
  {
   "cell_type": "markdown",
   "id": "7114270b",
   "metadata": {},
   "source": [
    "### Para encontrar el punto de corte igualamos las funciones:\n",
    "### $f(x)=g(x)$\n",
    "### $3-x=lnx$\n",
    "### Obtenemos la funcion h(x)\n",
    "### $h(x)=lnx+x-3$\n",
    "Usando el mentodo de Newton calculamos la raiz en la interseccion\n",
    "$ x_{n+1}=X_n-\\frac{f(x_n)}{f'(x_n} , f'(x_n)\\neq 0$\n",
    "### Tomamos $x_1=2$\n",
    "### Tenemos la funcion:\n",
    "### Calculamos la derivada:\n",
    "### $ h'(x)=\\frac{1}{x}+1$\n",
    "### Calculamos la iteraccion 1:\n",
    "### $ x_2=X_1-\\frac{h(x_1)}{h'(x_1)}=2-\\frac{-0.307}{1.5}=2.205$\n",
    "### Calculamos la iteraccion 2:\n",
    "### $ x_3=X_2-\\frac{h(x_2)}{h'(x_2)}=2.205-\\frac{-0.004}{1.454}=2.208$\n",
    "### Tenemos que la raiz es:\n",
    "### $ x=2.208$ con tres cifras decimales\n",
    "### Utilizando $g(x)$ calculamos el punto de interseccion\n",
    "### $g(2.208)=ln2.208=0.792$\n",
    "### Entonces el punto de interseccion es:\n",
    "### [2.208 , 0.792]"
   ]
  },
  {
   "cell_type": "markdown",
   "id": "f09410a5",
   "metadata": {},
   "source": [
    "## 3. Programe el método de sustitución regresiva. Analice el número de operaciones del algoritmo para matrices de tamaño 3 x 3."
   ]
  },
  {
   "cell_type": "code",
   "execution_count": 12,
   "id": "5a194c62",
   "metadata": {},
   "outputs": [
    {
     "name": "stdout",
     "output_type": "stream",
     "text": [
      "[-42. -12.   5.]\n"
     ]
    }
   ],
   "source": [
    "import numpy as np\n",
    "A=np.array([[1, -3, 2], \n",
    "            [0, 1, 4 ],\n",
    "            [0, 0, 1]])\n",
    "b=np.array([4, 8, 5])\n",
    "\n",
    "N=len(A)\n",
    "x=np.zeros(N)\n",
    "\n",
    "for i in reversed(range(N)):\n",
    "    suma=np.sum(A[i][i+1:]*x[i+1:])\n",
    "    x[i]=b[i]-suma\n",
    "    \n",
    "print(x)"
   ]
  },
  {
   "cell_type": "markdown",
   "id": "831fc670",
   "metadata": {},
   "source": [
    "## 4. Una importante parte de la física es la termodinámica que es el estudio de la transferencia de calor. En este ejercicio vamos a determinar la distribución de temperatura de estado estable de una placa delgada cuando se conoce la temperatura en los bordes.\n",
    "## Suponga que la placa que se ilustra en la figura representa una sección transversal de una viga de metal, con flujo de calor despreciable en la dirección perpendicular a la placa. Sean $T_1, T_2, T_3 y T_4 $ las temperaturas en los cuatro nodos interiores de la malla en la figura. La temperatura en un nodo es aproximadamente igual al promedio de las temperaturas de los cuatro nodos más cercanos, esto es, a la izquierda, arriba, a la derecha y abajo.\n",
    "## Escriba un sistema de ecuaciones cuya solución de estimaciones de las temperaturas $T_1, T_2, T_3 y T_4$"
   ]
  },
  {
   "attachments": {
    "Captura%20de%20pantalla%202021-06-30%20203724.jpg": {
     "image/jpeg": "[encoded data removed]"
    }
   },
   "cell_type": "markdown",
   "id": "ae9b222b",
   "metadata": {},
   "source": [
    "![Captura%20de%20pantalla%202021-06-30%20203724.jpg](attachment:Captura%20de%20pantalla%202021-06-30%20203724.jpg)"
   ]
  },
  {
   "cell_type": "markdown",
   "id": "3a73a917",
   "metadata": {},
   "source": [
    "## Programe el método de eliminación gaussiana y halle el valor de estas temperaturas. Utilice como apoyo el ejercicio del literal anterior."
   ]
  },
  {
   "cell_type": "markdown",
   "id": "163b620e",
   "metadata": {},
   "source": [
    "## Formamos un sistema de ecuaciones tomando en cuenta los promedios de los nodos mas cercanos\n",
    "### $T_1=\\frac{20+10+T_2+T_3}{4}=4T_1-T_2-T_3=30$\n",
    "### $T_2=\\frac{20+40+T_1+T_4}{4}=4T_2-T_1-T_4=60$\n",
    "### $T_3=\\frac{10+30+T_1+T_4}{4}=4T_3-T_1-T_4=40$\n",
    "### $T_4=\\frac{40+30+T_2+T_3}{4}=4T_4-T_2-T_3=70$\n",
    "## Teniendo nuestro sistma de ecuaciones de la siguiente manera\n",
    "### $4T_1-T_2-T_3+0=30$\n",
    "### $-T_1+4T_2+0-T_4=60$\n",
    "### $-T_1+0+4T_3-T_4=40$\n",
    "### $0-T_2-T_3+4T_4=70$\n",
    "### $\\begin{equation}\n",
    "\\begin{pmatrix}\n",
    "4 & -1 & -1 & 0 & | 30\\\\\n",
    "-1 & 4 & 0 & -1 & | 60\\\\\n",
    "-1 & 0 & 4 & -1 & | 40\\\\\n",
    "0 & -1 & -1 & 4 & | 70\\\\\n",
    "\\end{pmatrix}\n",
    "\\end{equation}$\n",
    "\n",
    "## Programando el metodo de eliminacion Gaissiana tenemos:"
   ]
  },
  {
   "cell_type": "code",
   "execution_count": 22,
   "id": "89b13981",
   "metadata": {},
   "outputs": [
    {
     "name": "stdout",
     "output_type": "stream",
     "text": [
      "Los resultados correxpondiendes a Temperaturas T1 ,T2, T3, T4 =  [20.  27.5 22.5 30. ]\n"
     ]
    }
   ],
   "source": [
    "import numpy as np\n",
    "#Creamos una matriz A con los valoroes de  T1, T2 T3 y T4\n",
    "A=np.array([[4.0, -1.0, -1.0, 0.0],\n",
    "            [-1.0, 4.0, 0.0, -1.0],\n",
    "            [-1.0, 0.0, 4.0, -1.0],\n",
    "            [0.0, -1.0, -1.0, 4.0]])\n",
    "# Cremos una matriz B con los resultados de nuestro sistema de ecuaciones\n",
    "B=np.array([30.0, 60.0, 40.0, 70.0])\n",
    "n=len(B)\n",
    "# Codigo principal\n",
    "for k in range(0,n-1):\n",
    "    for i in range(k+1,n):\n",
    "        mult= A[i,k]/A[k,k]\n",
    "        for j in range(k,n):\n",
    "            A[i,j]-=mult*A[k,j]\n",
    "        B[i] -=mult*B[k]\n",
    "x=np.zeros(n) # la utilizamos para llenar la matriz con ceros definidos por la longitud de B\n",
    "x[n-1]=B[n-1]/A[n-1,n-1]\n",
    "for i in range(n-2,-1,-1):\n",
    "    suma_j=0\n",
    "    for j in range(i+1,n):\n",
    "        suma_j += A[i,j]*x[j]\n",
    "        x[i]=(B[i]-suma_j)/A[i,i]\n",
    "\n",
    "print(\"Los resultados correxpondiendes a Temperaturas T1 ,T2, T3, T4 = \" ,np.linalg.solve(A,B))"
   ]
  },
  {
   "cell_type": "markdown",
   "id": "02873502",
   "metadata": {},
   "source": [
    "## 5. Programe el pivoteo parcial en el algoritmo de eliminación gaussiana. Utilice este nuevo programa para resolver el ejercicio anterior. Compare los resultados.\n",
    "### Para este caso vamos a utilizar el mismo codigo anterior, pero agrgaremos un codigo donde encuentre la fila que contenga el pivote mas grande en valor absoluto. utilizando  $maxindex$, de la libreria numpy."
   ]
  },
  {
   "cell_type": "code",
   "execution_count": 21,
   "id": "390bdda1",
   "metadata": {},
   "outputs": [
    {
     "name": "stdout",
     "output_type": "stream",
     "text": [
      "Los resultados correxpondiendes a Temperaturas T1 ,T2, T3, T4 =  [20.  27.5 22.5 30. ]\n"
     ]
    }
   ],
   "source": [
    "import numpy as np\n",
    "#Creamos una matriz A con los valoroes de  T1, T2 T3 y T4\n",
    "A=np.array([[4.0, -1.0, -1.0, 0.0],\n",
    "            [-1.0, 4.0, 0.0, -1.0],\n",
    "            [-1.0, 0.0, 4.0, -1.0],\n",
    "            [0.0, -1.0, -1.0, 4.0]])\n",
    "# Cremos una matriz B con los resultados de nuestro sistema de ecuaciones\n",
    "B=np.array([30.0, 60.0, 40.0, 70.0])\n",
    "n=len(B)\n",
    "#Codigo para elegir el pivote mas grande y para intercambiar filas en la matriz\n",
    "for k in range (n-1):\n",
    "    maxindex=abs(A[k:,k]).argmax()+k\n",
    "    # En este paso vamos a declarar una excepcion en el caso de que el pivote sea cero\n",
    "    if A[maxindex,k]==0:\n",
    "        raise ValueError(\"No diferente de cero\")\n",
    "    if maxindex !=k:\n",
    "        A[[k,maxindex]]=A[[maxindex, k]]\n",
    "        B[[k,maxindex]]=B[[maxindex, k]]\n",
    "# Codigo principal\n",
    "for k in range(0,n-1):\n",
    "    for i in range(k+1,n):\n",
    "        mult= A[i,k]/A[k,k]\n",
    "        for j in range(k,n):\n",
    "            A[i,j]-=mult*A[k,j]\n",
    "        B[i] -=mult*B[k]\n",
    "x=np.zeros(n) # la utilizamos para llenar la matriz con ceros definidos por la longitud de B\n",
    "x[n-1]=B[n-1]/A[n-1,n-1]\n",
    "for i in range(n-2,-1,-1):\n",
    "    suma_j=0\n",
    "    for j in range(i+1,n):\n",
    "        suma_j += A[i,j]*x[j]\n",
    "        x[i]=(B[i]-suma_j)/A[i,i]\n",
    "\n",
    "print(\"Los resultados correxpondiendes a Temperaturas T1 ,T2, T3, T4 = \" ,np.linalg.solve(A,B))"
   ]
  },
  {
   "cell_type": "markdown",
   "id": "ea052d5a",
   "metadata": {},
   "source": [
    "## Comparativa\n",
    "\n",
    "### Podemos observar que en los dos casos obtenemos los mismos resultados ya que en caso uno resolvemos por metodo de eliminacion gaussiana tomando solo los coeficientes de nuestro sistema de ecuaciones convietiendolo en una matriz ampliada y haciendo ceros la diagonal inferior con operaciones entre filas y en el caso de la resolucion por pivoteo parcial tenemos que tener en cuenta el coeficiente del pivote y analizamos el mayor coeficiente en valor absoluto y comparando los elemtos de la coluna bajo de el. por tanto en con los dos metodos deberiamos obtener el mismo resultado"
   ]
  },
  {
   "cell_type": "markdown",
   "id": "f6cd0e59",
   "metadata": {},
   "source": [
    "## Url gthub\n",
    "### https://github.com/aacosios/A2_Cosios_Andres_MetodosNumericos.git"
   ]
  },
  {
   "cell_type": "code",
   "execution_count": null,
   "id": "5f2a4305",
   "metadata": {},
   "outputs": [],
   "source": []
  }
 ],
 "metadata": {
  "kernelspec": {
   "display_name": "Python 3",
   "language": "python",
   "name": "python3"
  },
  "language_info": {
   "codemirror_mode": {
    "name": "ipython",
    "version": 3
   },
   "file_extension": ".py",
   "mimetype": "text/x-python",
   "name": "python",
   "nbconvert_exporter": "python",
   "pygments_lexer": "ipython3",
   "version": "3.8.8"
  }
 },
 "nbformat": 4,
 "nbformat_minor": 5
}
